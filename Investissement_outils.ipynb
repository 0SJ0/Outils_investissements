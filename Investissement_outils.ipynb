{
 "cells": [
  {
   "cell_type": "markdown",
   "metadata": {},
   "source": [
    "# Investissement\n",
    "\n",
    "\n",
    "Outils décisionnaire sur des projets d'investissement."
   ]
  },
  {
   "cell_type": "markdown",
   "metadata": {},
   "source": [
    "## La Valeur actuelle nette, concept\n",
    "\n",
    "La VAN, ou Valeur Actuelle Nette, est un concept financier qui sert à évaluer la rentabilité d'un investissement ou d'un projet. C'est une mesure importante dans les domaines de la finance d'entreprise et de l'investissement.\n",
    "\n",
    "\n",
    "Pour calculer la Valeur Actuelle Nette (VAN) d'un investissement immobilier, nous avons besoin de quelques informations clés :\n",
    "\n",
    "- Coût Initial de l'Investissement : Le montant total dépensé pour acheter la propriété, incluant le prix d'achat et les frais annexes (frais de notaire, de rénovation, etc.).\n",
    "\n",
    "- Flux de Trésorerie Futurs : Les revenus attendus de cet investissement, par exemple les loyers si c'est une propriété locative. Vous devriez estimer ces revenus pour chaque année de la durée prévue de l'investissement.\n",
    "\n",
    "- Valeur de Revente : La valeur estimée de la propriété à la fin de la période d'investissement, si vous prévoyez de la vendre.\n",
    "\n",
    "- Taux d'Actualisation : Le taux utilisé pour actualiser les flux de trésorerie futurs. Ce pourrait être le taux de rendement exigé pour l'investissement, ou un taux basé sur le coût du capital.Il correpond à l'enrichissement d'un investissement attendu par rapport à un placement de référence qui sert d'objectif minimum à atteindre.\n",
    "\n",
    "- Durée de l'Investissement : Le nombre d'années pendant lequel vous prévoyez de conserver l'investissement.\n",
    "\n",
    "$$\n",
    "\\text{VAN} = \\sum_{t=1}^{n} \\frac{\\text{Flux de trésorerie à l'année } t}{(1 + \\text{taux d'actualisation})^t} - \\text{Coût initial}\n",
    "$$\n",
    "\n",
    "où \\( n \\) est le nombre total d'années de l'investissement.\n",
    "\n",
    "\n"
   ]
  },
  {
   "cell_type": "markdown",
   "metadata": {},
   "source": [
    "## La Valeur actuelle nette, application\n",
    "\n",
    "Conidérons la Valeur Actuelle Nette (VAN) d'un investissement immobilier. Supposons les données suivantes :\n",
    "\n",
    "- Coût Initial de l'Investissement : 300 000 € (prix d'achat et frais inclus)\n",
    "- Durée de l'Investissement : 10 ans\n",
    "- Revenus Locatifs Annuels : 20 000 € par an\n",
    "- Valeur de Revente : 350 000 € (estimée à la fin des 10 ans)\n",
    "- Taux d'Actualisation : 5%"
   ]
  },
  {
   "cell_type": "code",
   "execution_count": 10,
   "metadata": {
    "vscode": {
     "languageId": "plaintext"
    }
   },
   "outputs": [
    {
     "data": {
      "text/plain": [
       "69304.33732296192"
      ]
     },
     "execution_count": 10,
     "metadata": {},
     "output_type": "execute_result"
    }
   ],
   "source": [
    "def calculer_van(cout_initial, duree_investissement, revenus_locatifs_annuels, valeur_revente, taux_actualisation):\n",
    "    \"\"\"\n",
    "    Calcule la Valeur Actuelle Nette (VAN) d'un investissement.\n",
    "\n",
    "    Parameters:\n",
    "    cout_initial (float): Coût initial de l'investissement.\n",
    "    duree_investissement (int): Durée de l'investissement en années.\n",
    "    revenus_locatifs_annuels (float): Revenus locatifs annuels.\n",
    "    valeur_revente (float): Valeur de revente estimée à la fin de l'investissement.\n",
    "    taux_actualisation (float): Taux d'actualisation.\n",
    "\n",
    "    Returns:\n",
    "    float: La valeur actuelle nette de l'investissement.\n",
    "    \"\"\"\n",
    "\n",
    "    van = -cout_initial\n",
    "    for annee in range(1, duree_investissement + 1):\n",
    "        van += revenus_locatifs_annuels / ((1 + taux_actualisation) ** annee)\n",
    "    van += valeur_revente / ((1 + taux_actualisation) ** duree_investissement)\n",
    "\n",
    "    return van\n",
    "\n",
    "# Exemple d'utilisation de la fonction\n",
    "van_exemple = calculer_van(300000, 10, 20000, 350000, 0.05)\n",
    "van_exemple\n",
    "\n"
   ]
  },
  {
   "cell_type": "code",
   "execution_count": 15,
   "metadata": {},
   "outputs": [
    {
     "data": {
      "text/plain": [
       "206276.52475657765"
      ]
     },
     "execution_count": 15,
     "metadata": {},
     "output_type": "execute_result"
    }
   ],
   "source": [
    "calculer_van(300000, 10, 20000, 350000, 0.01)"
   ]
  },
  {
   "cell_type": "code",
   "execution_count": 20,
   "metadata": {},
   "outputs": [
    {
     "data": {
      "text/plain": [
       "60823.69167657694"
      ]
     },
     "execution_count": 20,
     "metadata": {},
     "output_type": "execute_result"
    }
   ],
   "source": [
    "calculer_van(300000, 5, 20000, 350000, 0.05)"
   ]
  },
  {
   "cell_type": "code",
   "execution_count": 19,
   "metadata": {},
   "outputs": [
    {
     "data": {
      "text/plain": [
       "75949.14509545128"
      ]
     },
     "execution_count": 19,
     "metadata": {},
     "output_type": "execute_result"
    }
   ],
   "source": [
    "calculer_van(300000, 15, 20000, 350000, 0.05)"
   ]
  },
  {
   "cell_type": "code",
   "execution_count": null,
   "metadata": {},
   "outputs": [],
   "source": []
  }
 ],
 "metadata": {
  "kernelspec": {
   "display_name": "Python 3 (ipykernel)",
   "language": "python",
   "name": "python3"
  },
  "language_info": {
   "codemirror_mode": {
    "name": "ipython",
    "version": 3
   },
   "file_extension": ".py",
   "mimetype": "text/x-python",
   "name": "python",
   "nbconvert_exporter": "python",
   "pygments_lexer": "ipython3",
   "version": "3.9.12"
  }
 },
 "nbformat": 4,
 "nbformat_minor": 2
}
